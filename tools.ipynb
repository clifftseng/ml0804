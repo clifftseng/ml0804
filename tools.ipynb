{
  "nbformat": 4,
  "nbformat_minor": 0,
  "metadata": {
    "colab": {
      "name": "tools.ipynb",
      "provenance": [],
      "collapsed_sections": [],
      "authorship_tag": "ABX9TyN9OcAKKl6biFVV8+bTO4XF",
      "include_colab_link": true
    },
    "kernelspec": {
      "name": "python3",
      "display_name": "Python 3"
    }
  },
  "cells": [
    {
      "cell_type": "markdown",
      "metadata": {
        "id": "view-in-github",
        "colab_type": "text"
      },
      "source": [
        "<a href=\"https://colab.research.google.com/github/clifftseng/ml0804/blob/master/tools.ipynb\" target=\"_parent\"><img src=\"https://colab.research.google.com/assets/colab-badge.svg\" alt=\"Open In Colab\"/></a>"
      ]
    },
    {
      "cell_type": "code",
      "metadata": {
        "id": "cdc57YT94lJ3",
        "colab_type": "code",
        "colab": {
          "base_uri": "https://localhost:8080/",
          "height": 216
        },
        "outputId": "540b84e8-e477-47d0-c548-39e4989ae200"
      },
      "source": [
        "!pip install opencc-python-reimplemented"
      ],
      "execution_count": 1,
      "outputs": [
        {
          "output_type": "stream",
          "text": [
            "Collecting opencc-python-reimplemented\n",
            "\u001b[?25l  Downloading https://files.pythonhosted.org/packages/04/aa/02c5ffc87e2bf1da1f476d35aa4de69cad2cfc3140e37114755c454d1231/opencc-python-reimplemented-0.1.6.tar.gz (484kB)\n",
            "\u001b[K     |████████████████████████████████| 491kB 2.6MB/s \n",
            "\u001b[?25hBuilding wheels for collected packages: opencc-python-reimplemented\n",
            "  Building wheel for opencc-python-reimplemented (setup.py) ... \u001b[?25l\u001b[?25hdone\n",
            "  Created wheel for opencc-python-reimplemented: filename=opencc_python_reimplemented-0.1.6-py2.py3-none-any.whl size=486136 sha256=3183a59aa4156c6811cfe475e43104310da46896c5ce2de13aefbd3d8a7b5a7f\n",
            "  Stored in directory: /root/.cache/pip/wheels/54/8a/0f/405db0ba3f02d9af8211422d3ae94c47b3296256f168ac1e68\n",
            "Successfully built opencc-python-reimplemented\n",
            "Installing collected packages: opencc-python-reimplemented\n",
            "Successfully installed opencc-python-reimplemented-0.1.6\n"
          ],
          "name": "stdout"
        }
      ]
    },
    {
      "cell_type": "code",
      "metadata": {
        "id": "T_DZH2fI59UL",
        "colab_type": "code",
        "colab": {}
      },
      "source": [
        "s = \"\"\"\n",
        "《红楼梦》，原名《石头记》，又名《金陵十二钗》等，是清代作家曹雪芹创作的章回体长篇小说，中国古典四大名著之首。小说以贾宝玉、林黛玉、薛宝钗三人爱情纠葛为主线，以贾、史、王、薛四大家族的荣辱兴衰为背景，浓缩了整个封建社会的时代内容，揭示出封建末世危机。此书影响流传甚广，享誉古今海内外。\"开谈不说《红楼梦》，读尽诗书也枉然。\"——清·得舆《京都竹枝词》\n",
        "曹雪芹（约1715—约1763年），名霑，字梦阮，号雪芹、芹圃、芹溪，清满洲正白旗人。曹雪芹一生跌宕起伏，\"生于繁华，终于沦落\"，将毕生心血倾注于《红楼梦》创作，是中国最伟大的文学家之一。《红楼梦》后四十回作者尚有争议，一般认为是高鹗所续。\n",
        "本书为简体中文版，全本120回，由艺雅出版社精心制\n",
        "\"\"\""
      ],
      "execution_count": 4,
      "outputs": []
    },
    {
      "cell_type": "code",
      "metadata": {
        "id": "hfAm4kFH5dIK",
        "colab_type": "code",
        "colab": {}
      },
      "source": [
        "from opencc import OpenCC\n",
        "cc = OpenCC('s2twp')\n",
        "to_convert = s\n",
        "convert = cc.convert(to_convert)\n"
      ],
      "execution_count": 8,
      "outputs": []
    },
    {
      "cell_type": "code",
      "metadata": {
        "id": "VfOS5OLi6ziD",
        "colab_type": "code",
        "colab": {
          "base_uri": "https://localhost:8080/",
          "height": 215
        },
        "outputId": "b45d4191-12cb-4424-ade3-3cf88f901d59"
      },
      "source": [
        "import jieba\n",
        "from urllib.request import urlretrieve\n",
        "url = 'https://github.com/fxsjy/jieba/raw/master/extra_dict/dict.txt.big'\n",
        "urlretrieve(url, \"dict.txt.big\")\n",
        "jieba.set_dictionary(\"dict.txt.big\")\n",
        "jieba.load_userdict(\"literature.txt\")\n",
        "\" \".join(jieba.cut(convert))"
      ],
      "execution_count": 12,
      "outputs": [
        {
          "output_type": "stream",
          "text": [
            "Building prefix dict from /content/dict.txt.big ...\n",
            "Dumping model to file cache /tmp/jieba.u501edca284da514cb68b53a20324f4e3.cache\n",
            "Loading model cost 1.834 seconds.\n",
            "Prefix dict has been built successfully.\n"
          ],
          "name": "stderr"
        },
        {
          "output_type": "execute_result",
          "data": {
            "application/vnd.google.colaboratory.intrinsic+json": {
              "type": "string"
            },
            "text/plain": [
              "'\\n 《 紅樓夢 》 ， 原名 《 石頭記 》 ， 又名 《 金陵十二釵 》 等 ， 是 清代 作家 曹雪芹 創作 的 章回體 長篇小說 ， 中國 古典 四大名著 之 首 。 小說 以 賈寶玉 、 林黛玉 、 薛寶釵 三人 愛情 糾葛 為 主線 ， 以 賈 、 史 、 王 、 薛 四大家族 的 榮辱興衰 為 背景 ， 濃縮 了 整個 封建社會 的 時代 內容 ， 揭示 出 封建 末世 危機 。 此書 影響 流傳 甚廣 ， 享譽 古今 海內外 。 \" 開談 不 說 《 紅樓夢 》 ， 讀盡 詩書 也 枉然 。 \" — — 清 · 得 輿 《 京都 竹枝詞 》 \\n 曹雪芹 （ 約 1715 — 約 1763 年 ） ， 名霑 ， 字 夢阮 ， 號 雪芹 、 芹圃 、 芹溪 ， 清 滿洲 正 白旗 人 。 曹雪芹 一生 跌宕起伏 ， \" 生於 繁華 ， 終於 淪落 \" ， 將 畢生 心血 傾注 於 《 紅樓夢 》 創作 ， 是 中國 最 偉大 的 文學家 之一 。 《 紅樓夢 》 後 四十回 作者 尚有 爭議 ， 一般 認為 是 高鶚 所續 。 \\n 本書 為 簡體中文版 ， 全本 120 回 ， 由藝雅 出版社 精心 制 \\n'"
            ]
          },
          "metadata": {
            "tags": []
          },
          "execution_count": 12
        }
      ]
    },
    {
      "cell_type": "code",
      "metadata": {
        "id": "ypGK3gJsZwuB",
        "colab_type": "code",
        "colab": {
          "base_uri": "https://localhost:8080/",
          "height": 374
        },
        "outputId": "0fcf9a3d-0cec-4461-dfe9-42a671d2cebf"
      },
      "source": [
        "import jieba.analyse\n",
        "cc = jieba.analyse.extract_tags(convert)\n",
        "cc"
      ],
      "execution_count": 17,
      "outputs": [
        {
          "output_type": "execute_result",
          "data": {
            "text/plain": [
              "['紅樓夢',\n",
              " '曹雪芹',\n",
              " '創作',\n",
              " '中國',\n",
              " '四十回',\n",
              " '雪芹',\n",
              " '石頭記',\n",
              " '金陵十二釵',\n",
              " '章回體',\n",
              " '長篇小說',\n",
              " '四大名著',\n",
              " '小說',\n",
              " '賈寶玉',\n",
              " '薛寶釵',\n",
              " '愛情',\n",
              " '糾葛',\n",
              " '主線',\n",
              " '榮辱興衰',\n",
              " '濃縮',\n",
              " '整個']"
            ]
          },
          "metadata": {
            "tags": []
          },
          "execution_count": 17
        }
      ]
    }
  ]
}